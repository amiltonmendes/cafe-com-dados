{
 "cells": [
  {
   "cell_type": "code",
   "execution_count": null,
   "id": "c00165df",
   "metadata": {},
   "outputs": [],
   "source": [
    "# O objetivo deste notebook é "
   ]
  },
  {
   "cell_type": "markdown",
   "id": "74db7854",
   "metadata": {},
   "source": []
  }
 ],
 "metadata": {
  "language_info": {
   "name": "python"
  }
 },
 "nbformat": 4,
 "nbformat_minor": 5
}
